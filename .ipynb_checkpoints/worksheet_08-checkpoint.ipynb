{
 "cells": [
  {
   "cell_type": "markdown",
   "metadata": {},
   "source": [
    "# Worksheet 08\n",
    "\n",
    "Name:  Zhiyi Yu\n",
    "UID: U65310997\n",
    "\n",
    "### Topics\n",
    "\n",
    "- Soft Clustering\n",
    "- Clustering Aggregation\n",
    "\n",
    "### Probability Review\n",
    "\n",
    "Read through [the following](https://medium.com/@gallettilance/overview-of-probability-3272b72c82c8)\n",
    "\n",
    "### Soft Clustering\n",
    "\n",
    "We generate 10 data points that come from a normal distribution with mean 5 and variance 1."
   ]
  },
  {
   "cell_type": "code",
   "execution_count": 1,
   "metadata": {},
   "outputs": [
    {
     "name": "stdout",
     "output_type": "stream",
     "text": [
      "[2.890575222726332, 6.13118819643281, 5.14977839004515, 5.91914913708844, 3.214294359571733, 3.968394415770595, 7.353433134764183, 6.6067393942242045, 2.7230091825982554, 5.3791726334992305]\n"
     ]
    }
   ],
   "source": [
    "import random\n",
    "import numpy as np\n",
    "from sklearn.cluster import KMeans\n",
    "\n",
    "mean = 5\n",
    "stdev = 1\n",
    "\n",
    "s1 = np.random.normal(mean, stdev, 10).tolist()\n",
    "print(s1)"
   ]
  },
  {
   "cell_type": "markdown",
   "metadata": {},
   "source": [
    "a) Generate 10 more data points, this time coming from a normal distribution with mean 8 and variance 1."
   ]
  },
  {
   "cell_type": "code",
   "execution_count": 3,
   "metadata": {},
   "outputs": [
    {
     "name": "stdout",
     "output_type": "stream",
     "text": [
      "[9.282235166151182, 7.466749510536794, 7.039678783615328, 8.811452379823079, 7.887902963532992, 7.7319573206542, 8.429967724290215, 7.96986809691679, 7.96992127768984, 7.466318051838139]\n"
     ]
    }
   ],
   "source": [
    "s2 = np.random.normal(8, 1, 10).tolist()\n",
    "print(s2)\n"
   ]
  },
  {
   "cell_type": "markdown",
   "metadata": {},
   "source": [
    "b) Flip a fair coin 10 times. If the coin lands on H, then pick the last data point of `c1` and remove it from `c1`, if T then pick the last data point from `c2` and remove it from `c2`. Add these 10 points to a list called `data`."
   ]
  },
  {
   "cell_type": "code",
   "execution_count": 5,
   "metadata": {},
   "outputs": [
    {
     "name": "stdout",
     "output_type": "stream",
     "text": [
      "[5.3791726334992305, 2.7230091825982554, 7.466318051838139, 7.96992127768984, 7.96986809691679, 8.429967724290215, 7.7319573206542, 6.6067393942242045, 7.887902963532992, 8.811452379823079]\n"
     ]
    }
   ],
   "source": [
    "data = []\n",
    "for i in range(10):\n",
    "    # flip coin\n",
    "    coin_output = random.choice([0, 1])\n",
    "    if coin_output == 0:\n",
    "        p1 = s1.pop()\n",
    "        data.append(p1)\n",
    "    else:\n",
    "        p2 = s2.pop()\n",
    "        data.append(p2)\n",
    "print(data)"
   ]
  },
  {
   "cell_type": "markdown",
   "metadata": {},
   "source": [
    "c) This `data` is a Gaussian Mixture Distribution with 2 mixture components. Over the next few questions we will walk through the GMM algorithm to see if we can uncover the parameters we used to generate this data. First, please list all these parameters of the GMM that created `data` and the values we know they have."
   ]
  },
  {
   "cell_type": "markdown",
   "metadata": {},
   "source": [
    "Mean for each component, covariance for each component, mixture weight for each component"
   ]
  },
  {
   "cell_type": "markdown",
   "metadata": {},
   "source": [
    "d) Let's assume there are two mixture components (note: we could plot the data and make the observation that there are two clusters). The EM algorithm asks us to start with a random `mean_j`, `variance_j`, `P(S_j)` for each component j. One method we could use to find sensible values for these is to apply K means with k=2 here.\n",
    "\n",
    "1. the centroids would be the estimates of the `mean_j`\n",
    "2. the intra-cluster variance could be the estimate of `variance_j`\n",
    "3. the proportion of points in each cluster could be the estimate of `P(S_j)`\n",
    "\n",
    "Go through this process and list the parameter estimates it gives. Are they close or far from the true values?"
   ]
  },
  {
   "cell_type": "code",
   "execution_count": 6,
   "metadata": {},
   "outputs": [
    {
     "name": "stdout",
     "output_type": "stream",
     "text": [
      "[5.3791726334992305, 2.7230091825982554]\n",
      "[7.466318051838139, 7.96992127768984, 7.96986809691679, 8.429967724290215, 7.7319573206542, 6.6067393942242045, 7.887902963532992, 8.811452379823079]\n",
      "P(S_1) = 0.2,  P(S_2) = 0.8\n",
      "mean_1 = 4.051090908048743,  mean_2 = 7.859265901121184\n",
      "var_1 = 1.7638010694755442,  var_2 = 0.3746369172511683\n"
     ]
    }
   ],
   "source": [
    "kmeans = KMeans(2, init='k-means++').fit(X=np.array(data).reshape(-1, 1))\n",
    "\n",
    "s1 = [x[0] for x in filter(lambda x: x[1] == 0, zip(data, kmeans.labels_))]\n",
    "print(s1)\n",
    "s2 = [x[0] for x in filter(lambda x: x[1] == 1, zip(data, kmeans.labels_))]\n",
    "print(s2)\n",
    "\n",
    "prob_s = [len(s1) / (len(s1) + len(s2)), len(s2) / (len(s1) + len(s2))]\n",
    "mean = [sum(s1)/len(s1), sum(s2)/len(s2)]\n",
    "var = [sum(map(lambda x: (x - mean[0])**2, s1)) / len(s1),\n",
    "       sum(map(lambda x: (x - mean[1])**2, s2)) / len(s2)]\n",
    "\n",
    "print(\"P(S_1) = \" + str(prob_s[0]) + \",  P(S_2) = \" + str(prob_s[1]))\n",
    "print(\"mean_1 = \" + str(mean[0]) + \",  mean_2 = \" + str(mean[1]))\n",
    "print(\"var_1 = \" + str(var[0]) + \",  var_2 = \" + str(var[1]))"
   ]
  },
  {
   "cell_type": "markdown",
   "metadata": {},
   "source": [
    "The estimated parameters from KMeans clustering have some differences from the true values. These discrepancies can be attributed to the randomness in data generation, the specific method by which KMeans determines clusters, and the sample size. The estimated means are reasonably close, but the variances show some deviation. "
   ]
  },
  {
   "cell_type": "markdown",
   "metadata": {},
   "source": [
    "e) For each data point, compute `P(S_j | X_i)`. Comment on which cluster you think each point belongs to based on the estimated probabilities. How does that compare to the truth?"
   ]
  },
  {
   "cell_type": "code",
   "execution_count": 7,
   "metadata": {},
   "outputs": [
    {
     "name": "stdout",
     "output_type": "stream",
     "text": [
      "point =  5.3791726334992305\n",
      "probability of observing that point if it came from cluster 0 =  0.18219565850668304\n",
      "probability of observing that point if it came from cluster 1 =  0.0001773938891642814\n",
      "point =  2.7230091825982554\n",
      "probability of observing that point if it came from cluster 0 =  0.18219565850668298\n",
      "probability of observing that point if it came from cluster 1 =  3.3347169517624406e-16\n",
      "point =  7.466318051838139\n",
      "probability of observing that point if it came from cluster 0 =  0.011008296319696232\n",
      "probability of observing that point if it came from cluster 1 =  0.5304039253413589\n",
      "point =  7.96992127768984\n",
      "probability of observing that point if it came from cluster 0 =  0.003863731563715324\n",
      "probability of observing that point if it came from cluster 1 =  0.6412207264455784\n",
      "point =  7.96986809691679\n",
      "probability of observing that point if it came from cluster 0 =  0.003864188116678795\n",
      "probability of observing that point if it came from cluster 1 =  0.6412307962998166\n",
      "point =  8.429967724290215\n",
      "probability of observing that point if it came from cluster 0 =  0.0013093116891404197\n",
      "probability of observing that point if it came from cluster 1 =  0.42200932669932195\n",
      "point =  7.7319573206542\n",
      "probability of observing that point if it came from cluster 0 =  0.006451363950178651\n",
      "probability of observing that point if it came from cluster 1 =  0.6378383028549911\n",
      "point =  6.6067393942242045\n",
      "probability of observing that point if it came from cluster 0 =  0.04716187068911558\n",
      "probability of observing that point if it came from cluster 1 =  0.08031247241775132\n",
      "point =  7.887902963532992\n",
      "probability of observing that point if it came from cluster 0 =  0.0046272168207105195\n",
      "probability of observing that point if it came from cluster 1 =  0.6510726383422956\n",
      "point =  8.811452379823079\n",
      "probability of observing that point if it came from cluster 0 =  0.0004873167561299956\n",
      "probability of observing that point if it came from cluster 1 =  0.19435090899319438\n",
      "5.3791726334992305\n",
      "Probability of coming from S_1 = 0.9961205289706943\n",
      "Probability of coming from S_2 = 0.0038794710293058063\n",
      "\n",
      "2.7230091825982554\n",
      "Probability of coming from S_1 = 0.9999999999999928\n",
      "Probability of coming from S_2 = 7.321177637479432e-15\n",
      "\n",
      "7.466318051838139\n",
      "Probability of coming from S_1 = 0.005161855222320131\n",
      "Probability of coming from S_2 = 0.99483814477768\n",
      "\n",
      "7.96992127768984\n",
      "Probability of coming from S_1 = 0.001504131044900265\n",
      "Probability of coming from S_2 = 0.9984958689550998\n",
      "\n",
      "7.96986809691679\n",
      "Probability of coming from S_1 = 0.0015042849232362384\n",
      "Probability of coming from S_2 = 0.9984957150767637\n",
      "\n",
      "8.429967724290215\n",
      "Probability of coming from S_1 = 0.0007750402876548205\n",
      "Probability of coming from S_2 = 0.9992249597123452\n",
      "\n",
      "7.7319573206542\n",
      "Probability of coming from S_1 = 0.0025222270740699834\n",
      "Probability of coming from S_2 = 0.9974777729259301\n",
      "\n",
      "6.6067393942242045\n",
      "Probability of coming from S_1 = 0.1280140206246811\n",
      "Probability of coming from S_2 = 0.8719859793753189\n",
      "\n",
      "7.887902963532992\n",
      "Probability of coming from S_1 = 0.0017736154330282791\n",
      "Probability of coming from S_2 = 0.9982263845669717\n",
      "\n",
      "8.811452379823079\n",
      "Probability of coming from S_1 = 0.0006264589585731098\n",
      "Probability of coming from S_2 = 0.9993735410414268\n",
      "\n"
     ]
    }
   ],
   "source": [
    "from scipy.stats import norm\n",
    "\n",
    "prob_s0_x = [] # P(S_0 | X_i)\n",
    "prob_s1_x = [] # P(S_1 | X_i)\n",
    "\n",
    "k = 2\n",
    "\n",
    "for p in data:\n",
    "    print(\"point = \", p)\n",
    "    pdf_i = []\n",
    "\n",
    "    for j in range(k):\n",
    "        # P(X_i | S_j)\n",
    "        pdf_i.append(norm.pdf(p, mean[j], var[j]**0.5)) # using standard deviation which is sqrt(variance)\n",
    "        print(\"probability of observing that point if it came from cluster \" + str(j) + \" = \", pdf_i[j])\n",
    "\n",
    "    # P(X_i) = P(S_0)P(X_i | S_0) + P(S_1)P(X_i | S_1)\n",
    "    prob_x_i = prob_s[0] * pdf_i[0] + prob_s[1] * pdf_i[1]\n",
    "\n",
    "    # P(S_j | X_i) = P(X_i | S_j)P(S_j) / P(X_i)\n",
    "    prob_s0_x.append(pdf_i[0] * prob_s[0] / prob_x_i)\n",
    "    prob_s1_x.append(pdf_i[1] * prob_s[1] / prob_x_i)\n",
    "\n",
    "probs = zip(data, prob_s0_x, prob_s1_x)\n",
    "for p in probs:\n",
    "    print(p[0])\n",
    "    print(\"Probability of coming from S_1 = \" + str(p[1]))\n",
    "    print(\"Probability of coming from S_2 = \" + str(p[2]))\n",
    "    print()\n"
   ]
  },
  {
   "cell_type": "markdown",
   "metadata": {},
   "source": [
    "f) Having computed `P(S_j | X_i)`, update the estimates of `mean_j`, `var_j`, and `P(S_j)`. How different are these values from the original ones you got from K means? briefly comment."
   ]
  },
  {
   "cell_type": "code",
   "execution_count": 8,
   "metadata": {},
   "outputs": [
    {
     "name": "stdout",
     "output_type": "stream",
     "text": [
      "P(S_1) = 0.21380021625391513,  P(S_2) = 0.786199783746085\n",
      "mean_1 = 4.225969061567387,  mean_2 = 7.878554448015107\n",
      "var_1 = 2.0987931826214155,  var_2 = 0.358115653718746\n"
     ]
    }
   ],
   "source": [
    "prob_c = [sum(prob_s0_x) / len(prob_s0_x), sum(prob_s1_x) / len(prob_s1_x)]\n",
    "\n",
    "\n",
    "mean = [\n",
    "    sum([x[0] * x[1] for x in zip(prob_s0_x, data)]) / sum(prob_s0_x),\n",
    "    sum([x[0] * x[1] for x in zip(prob_s1_x, data)]) / sum(prob_s1_x)\n",
    "]\n",
    "\n",
    "\n",
    "var = [\n",
    "    sum([prob_s0_x[i] * (data[i] - mean[0]) ** 2 for i in range(len(data))]) / sum(prob_s0_x),\n",
    "    sum([prob_s1_x[i] * (data[i] - mean[1]) ** 2 for i in range(len(data))]) / sum(prob_s1_x)\n",
    "]\n",
    "\n",
    "print(\"P(S_1) = \" + str(prob_c[0]) + \",  P(S_2) = \" + str(prob_c[1]))\n",
    "print(\"mean_1 = \" + str(mean[0]) + \",  mean_2 = \" + str(mean[1]))\n",
    "print(\"var_1 = \" + str(var[0]) + \",  var_2 = \" + str(var[1]))"
   ]
  },
  {
   "cell_type": "markdown",
   "metadata": {},
   "source": []
  },
  {
   "cell_type": "markdown",
   "metadata": {},
   "source": [
    "g) Update `P(S_j | X_i)`. Comment on any differences or lack thereof you observe."
   ]
  },
  {
   "cell_type": "code",
   "execution_count": 9,
   "metadata": {},
   "outputs": [
    {
     "name": "stdout",
     "output_type": "stream",
     "text": [
      "5.3791726334992305\n",
      "Updated Probability of coming from S_1 = 0.9980123182110998\n",
      "Updated Probability of coming from S_2 = 0.0019876817889001638\n",
      "\n",
      "2.7230091825982554\n",
      "Updated Probability of coming from S_1 = 0.9999999999999988\n",
      "Updated Probability of coming from S_2 = 1.1650835119861967e-15\n",
      "\n",
      "7.466318051838139\n",
      "Updated Probability of coming from S_1 = 0.011538775656167963\n",
      "Updated Probability of coming from S_2 = 0.988461224343832\n",
      "\n",
      "7.96992127768984\n",
      "Updated Probability of coming from S_1 = 0.004013832167540448\n",
      "Updated Probability of coming from S_2 = 0.9959861678324596\n",
      "\n",
      "7.96986809691679\n",
      "Updated Probability of coming from S_1 = 0.0040141572040926134\n",
      "Updated Probability of coming from S_2 = 0.9959858427959073\n",
      "\n",
      "8.429967724290215\n",
      "Updated Probability of coming from S_1 = 0.0025421551858988665\n",
      "Updated Probability of coming from S_2 = 0.997457844814101\n",
      "\n",
      "7.7319573206542\n",
      "Updated Probability of coming from S_1 = 0.0061530640560941785\n",
      "Updated Probability of coming from S_2 = 0.9938469359439059\n",
      "\n",
      "6.6067393942242045\n",
      "Updated Probability of coming from S_1 = 0.2178485771395681\n",
      "Updated Probability of coming from S_2 = 0.782151422860432\n",
      "\n",
      "7.887902963532992\n",
      "Updated Probability of coming from S_1 = 0.004582973908507696\n",
      "Updated Probability of coming from S_2 = 0.9954170260914922\n",
      "\n",
      "8.811452379823079\n",
      "Updated Probability of coming from S_1 = 0.0025213978531606596\n",
      "Updated Probability of coming from S_2 = 0.9974786021468395\n",
      "\n",
      "Average difference in P(S_1 | X_i): 0.011322508884297816\n",
      "Average difference in P(S_2 | X_i): 0.011322508884297824\n"
     ]
    }
   ],
   "source": [
    "updated_prob_s0_x = [] # Updated P(S_0 | X_i)\n",
    "updated_prob_s1_x = [] # Updated P(S_1 | X_i)\n",
    "\n",
    "for p in data:\n",
    "    pdf_i = []\n",
    "\n",
    "    for j in range(k):\n",
    "        # P(X_i | S_j)\n",
    "        pdf_i.append(norm.pdf(p, mean[j], var[j]**0.5))\n",
    "\n",
    "    # P(X_i) = P(S_0)P(X_i | S_0) + P(S_1)P(X_i | S_1)\n",
    "    prob_x_i = prob_c[0] * pdf_i[0] + prob_c[1] * pdf_i[1]\n",
    "\n",
    "    # P(S_j | X_i) = P(X_i | S_j)P(S_j) / P(X_i)\n",
    "    updated_prob_s0_x.append(pdf_i[0] * prob_c[0] / prob_x_i)\n",
    "    updated_prob_s1_x.append(pdf_i[1] * prob_c[1] / prob_x_i)\n",
    "\n",
    "updated_probs = zip(data, updated_prob_s0_x, updated_prob_s1_x)\n",
    "for p in updated_probs:\n",
    "    print(p[0])\n",
    "    print(\"Updated Probability of coming from S_1 = \" + str(p[1]))\n",
    "    print(\"Updated Probability of coming from S_2 = \" + str(p[2]))\n",
    "    print()\n",
    "\n",
    "differences_s0 = [abs(a - b) for a, b in zip(prob_s0_x, updated_prob_s0_x)]\n",
    "differences_s1 = [abs(a - b) for a, b in zip(prob_s1_x, updated_prob_s1_x)]\n",
    "print(\"Average difference in P(S_1 | X_i):\", sum(differences_s0) / len(differences_s0))\n",
    "print(\"Average difference in P(S_2 | X_i):\", sum(differences_s1) / len(differences_s1))\n"
   ]
  },
  {
   "cell_type": "markdown",
   "metadata": {},
   "source": []
  },
  {
   "cell_type": "markdown",
   "metadata": {},
   "source": [
    "h) Use `P(S_j | X_i)` to create a hard assignment - label each point as belonging to a specific cluster (0 or 1)"
   ]
  },
  {
   "cell_type": "code",
   "execution_count": 11,
   "metadata": {},
   "outputs": [
    {
     "name": "stdout",
     "output_type": "stream",
     "text": [
      "Data Point: 5.3791726334992305  Cluster: 0\n",
      "Data Point: 2.7230091825982554  Cluster: 0\n",
      "Data Point: 7.466318051838139  Cluster: 1\n",
      "Data Point: 7.96992127768984  Cluster: 1\n",
      "Data Point: 7.96986809691679  Cluster: 1\n",
      "Data Point: 8.429967724290215  Cluster: 1\n",
      "Data Point: 7.7319573206542  Cluster: 1\n",
      "Data Point: 6.6067393942242045  Cluster: 1\n",
      "Data Point: 7.887902963532992  Cluster: 1\n",
      "Data Point: 8.811452379823079  Cluster: 1\n"
     ]
    }
   ],
   "source": [
    "hard_assignments = [0 if prob_s0 > prob_s1 else 1 for prob_s0, prob_s1 in zip(updated_prob_s0_x, updated_prob_s1_x)]\n",
    "\n",
    "assigned_data = list(zip(data, hard_assignments))\n",
    "\n",
    "for point, cluster in assigned_data:\n",
    "    print(f\"Data Point: {point}  Cluster: {cluster}\")\n"
   ]
  },
  {
   "cell_type": "code",
   "execution_count": null,
   "metadata": {},
   "outputs": [],
   "source": []
  }
 ],
 "metadata": {
  "kernelspec": {
   "display_name": "Python 3 (ipykernel)",
   "language": "python",
   "name": "python3"
  },
  "language_info": {
   "codemirror_mode": {
    "name": "ipython",
    "version": 3
   },
   "file_extension": ".py",
   "mimetype": "text/x-python",
   "name": "python",
   "nbconvert_exporter": "python",
   "pygments_lexer": "ipython3",
   "version": "3.9.13"
  },
  "vscode": {
   "interpreter": {
    "hash": "e7370f93d1d0cde622a1f8e1c04877d8463912d04d973331ad4851f04de6915a"
   }
  }
 },
 "nbformat": 4,
 "nbformat_minor": 2
}
