{
 "cells": [
  {
   "attachments": {},
   "cell_type": "markdown",
   "metadata": {},
   "source": [
    "# Worksheet 14\n",
    "\n",
    "Name:  Zhiyi Yu\n",
    "UID: U65310997\n",
    "\n",
    "### Topics\n",
    "\n",
    "- Naive Bayes\n",
    "- Model Evaluation\n",
    "\n",
    "### Naive Bayes\n",
    "\n",
    "| Attribute A | Attribute B | Attribute C | Class |\n",
    "|-------------|-------------|-------------|-------|\n",
    "| Yes         | Single      | High        | No    |\n",
    "| No          | Married     | Mid         | No    |\n",
    "| No          | Single      | Low         | No    |\n",
    "| Yes         | Married     | High        | No    |\n",
    "| No          | Divorced    | Mid         | Yes   |\n",
    "| No          | Married     | Low         | No    |\n",
    "| Yes         | Divorced    | High        | No    |\n",
    "| No          | Single      | Mid         | Yes   |\n",
    "| No          | Married     | Low         | No    |\n",
    "| No          | Single      | Mid         | Yes   |\n",
    "\n",
    "a) Compute the following probabilities:\n",
    "\n",
    "- P(Attribute A = Yes | Class = No) = 3/7\n",
    "- P(Attribute B = Divorced | Class = Yes) = 1/3\n",
    "- P(Attribute C = High | Class = No) = 3/7\n",
    "- P(Attribute C = Mid | Class = Yes) = 1"
   ]
  },
  {
   "cell_type": "markdown",
   "metadata": {},
   "source": []
  },
  {
   "cell_type": "markdown",
   "metadata": {},
   "source": [
    "b) \n",
    "Classify the following unseen records:\n",
    "- (Yes, Married, Mid):\n",
    "\n",
    "   P(yes | C = yes)P(Marries | C = yes)P(Mid | C = yes)P(yes) = 0 \n",
    "\n",
    "   P(yes | C = no)P(Marries | C = no)P(Mid | C = no)P(no) = 3/7 * 4/7 * 1/7 * 7/10 = 0.024\n",
    "\n",
    "  Classify as no\n",
    "- (No, Divorced, High):\n",
    "\n",
    " P(C = yes | No, Divorced, High ) = P(No | C = yes) P(Divorced | C = yes) P(High | C = yes) P(yes) = 1* 1/3 * 0 * 3/10 = 0\n",
    "\n",
    "  P(No | C = no) P(Divorced | C = no) P(High | C = no) P(no) = 4/7 * 1/7 * 3/7 * 7/10 = 0.024\n",
    "\n",
    "  Classify as no\n",
    "- (No, Single, High)\n",
    "\n",
    "  P(No | C = yes) P(Single | C = yes) P(High | C = yes) P(yes) = 1* 2/3 * 0 *3/10 = 0\n",
    "\n",
    "  P(No | C = no) P(Single | C = no) P(High | C = no) P(no) = 4/7 * 2/7 * 3/7 * 7/10 = 0.049\n",
    "\n",
    "  Classify as no\n",
    "- (No, Divorced, Low)\n",
    "\n",
    "  P(No | C = yes) P(Divorced | C = yes) P(Low | C = yes) P(yes) = 1* 1/3 * 0 * 3/10 = 0\n",
    "\n",
    "  P(No | C = no) P(Divorced | C = no) P(Low | C = no) P(no) = 4/7 * 1/7 * 3/7 * 7/10 = 0.024\n",
    "\n",
    "  Classify as no"
   ]
  },
  {
   "cell_type": "markdown",
   "metadata": {},
   "source": []
  },
  {
   "cell_type": "markdown",
   "metadata": {},
   "source": [
    "### Model Evaluation\n",
    "\n",
    "a) Write a function to generate the confusion matrix for a list of actual classes and a list of predicted classes"
   ]
  },
  {
   "cell_type": "code",
   "execution_count": 3,
   "metadata": {},
   "outputs": [
    {
     "name": "stdout",
     "output_type": "stream",
     "text": [
      "[2, 3, 4, 1]\n"
     ]
    }
   ],
   "source": [
    "actual_class = [\"Yes\", \"No\", \"No\", \"Yes\", \"No\", \"No\", \"Yes\", \"No\", \"No\", \"No\"]\n",
    "predicted_class = [\"Yes\", \"No\", \"Yes\", \"No\", \"No\", \"No\", \"Yes\", \"Yes\", \"Yes\", \"No\"]\n",
    "\n",
    "def confusion_matrix(actual, predicted):\n",
    "    TP = FP = TN = FN = 0\n",
    "    matrix = []\n",
    "    for i in range(len(actual)):\n",
    "        if actual[i] == \"Yes\" and predicted[i] == \"Yes\":\n",
    "            TP += 1\n",
    "        elif actual[i] == \"No\" and predicted[i] == \"Yes\":\n",
    "            FP += 1\n",
    "        elif actual[i] == \"No\" and predicted[i] == \"No\":\n",
    "            TN += 1\n",
    "        elif actual[i] == \"Yes\" and predicted[i] == \"No\":\n",
    "            FN += 1\n",
    "\n",
    "    matrix.append(TP)\n",
    "    matrix.append(FP)\n",
    "    matrix.append(TN)\n",
    "    matrix.append(FN)\n",
    "    return matrix\n",
    "\n",
    "print(confusion_matrix(actual_class, predicted_class))"
   ]
  },
  {
   "cell_type": "markdown",
   "metadata": {},
   "source": [
    "b) Assume you have the following Cost Matrix:\n",
    "\n",
    "|            | predicted = Y | predicted = N |\n",
    "|------------|---------------|---------------|\n",
    "| actual = Y |       -1      |       5       |\n",
    "| actual = N |        10     |       0       |\n",
    "\n",
    "What is the cost of the above classification?"
   ]
  },
  {
   "cell_type": "markdown",
   "metadata": {},
   "source": [
    "Cost = (2 * -1) + (3 * 10) + (4 * 0) + (1 * 5) = -2 + 30 + 0 + 5 = 33"
   ]
  },
  {
   "cell_type": "markdown",
   "metadata": {},
   "source": [
    "c) Write a function that takes in the actual values, the predictions, and a cost matrix and outputs a cost. Test it on the above example."
   ]
  },
  {
   "cell_type": "code",
   "execution_count": 4,
   "metadata": {},
   "outputs": [
    {
     "name": "stdout",
     "output_type": "stream",
     "text": [
      "33\n"
     ]
    }
   ],
   "source": [
    "def calculate_cost(actual, predicted, cost_matrix):\n",
    "    TP, FP, TN, FN = confusion_matrix(actual, predicted)\n",
    "    \n",
    "    total_cost = (TP * cost_matrix[0]) + (FP * cost_matrix[1]) + (TN * cost_matrix[2]) + (FN * cost_matrix[3])\n",
    "    \n",
    "    return total_cost\n",
    "\n",
    "cost_matrix = [-1, 10, 0, 5]  # As per the provided matrix\n",
    "print(calculate_cost(actual_class, predicted_class, cost_matrix))\n"
   ]
  },
  {
   "cell_type": "markdown",
   "metadata": {},
   "source": [
    "d) Implement functions for the following:\n",
    "\n",
    "- accuracy\n",
    "- precision\n",
    "- recall\n",
    "- f-measure\n",
    "\n",
    "and apply them to the above example."
   ]
  },
  {
   "cell_type": "code",
   "execution_count": 5,
   "metadata": {},
   "outputs": [],
   "source": [
    "def accuracy(TP, FP, TN, FN):\n",
    "    return (TP + TN) / (TP + FP + TN + FN)\n",
    "\n",
    "def precision(TP, FP):\n",
    "    return TP / (TP + FP)\n",
    "\n",
    "def recall(TP, FN):\n",
    "    return TP / (TP + FN)\n",
    "\n",
    "def f_measure(precision_val, recall_val):\n",
    "    return 2 * (precision_val * recall_val) / (precision_val + recall_val)\n"
   ]
  },
  {
   "cell_type": "code",
   "execution_count": 7,
   "metadata": {},
   "outputs": [
    {
     "name": "stdout",
     "output_type": "stream",
     "text": [
      "Accuracy: 0.6\n",
      "Precision: 0.4\n",
      "Recall: 0.6666666666666666\n",
      "F1-score: 0.5\n"
     ]
    }
   ],
   "source": [
    "TP, FP, TN, FN = confusion_matrix(actual_class, predicted_class)\n",
    "\n",
    "accuracy_val = accuracy(TP, FP, TN, FN)\n",
    "precision_val = precision(TP, FP)\n",
    "recall_val = recall(TP, FN)\n",
    "f1_val = f_measure(precision_val, recall_val)\n",
    "\n",
    "print(f\"Accuracy: {accuracy_val}\")\n",
    "print(f\"Precision: {precision_val}\")\n",
    "print(f\"Recall: {recall_val}\")\n",
    "print(f\"F1-score: {f1_val}\")"
   ]
  },
  {
   "cell_type": "code",
   "execution_count": null,
   "metadata": {},
   "outputs": [],
   "source": []
  }
 ],
 "metadata": {
  "kernelspec": {
   "display_name": "Python 3 (ipykernel)",
   "language": "python",
   "name": "python3"
  },
  "language_info": {
   "codemirror_mode": {
    "name": "ipython",
    "version": 3
   },
   "file_extension": ".py",
   "mimetype": "text/x-python",
   "name": "python",
   "nbconvert_exporter": "python",
   "pygments_lexer": "ipython3",
   "version": "3.9.13"
  },
  "vscode": {
   "interpreter": {
    "hash": "e7370f93d1d0cde622a1f8e1c04877d8463912d04d973331ad4851f04de6915a"
   }
  }
 },
 "nbformat": 4,
 "nbformat_minor": 4
}
